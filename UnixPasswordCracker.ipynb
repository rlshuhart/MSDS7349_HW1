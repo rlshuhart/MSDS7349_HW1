{
 "cells": [
  {
   "cell_type": "code",
   "execution_count": 25,
   "metadata": {
    "collapsed": false
   },
   "outputs": [],
   "source": [
    "# http://stackoverflow.com/questions/6425131/encrypt-decrypt-data-in-python-with-salt\n",
    "import Crypto.Random\n",
    "from Crypto.Cipher import DES3\n",
    "import hashlib"
   ]
  },
  {
   "cell_type": "code",
   "execution_count": 12,
   "metadata": {
    "collapsed": false
   },
   "outputs": [
    {
     "data": {
      "text/plain": [
       "b'\\x1e\\x1a\\x19\\x0f\\xc5O\\x0e\\xe2?WA\\xba)\\xf7\\xde\\xc7'"
      ]
     },
     "execution_count": 12,
     "metadata": {},
     "output_type": "execute_result"
    }
   ],
   "source": [
    "# salt size in bytes\n",
    "SALT_SIZE = 16\n",
    "\n",
    "# number of iterations in the key generation\n",
    "NUMBER_OF_ITERATIONS = 20\n",
    "\n",
    "# the size multiple required for AES\n",
    "DES_MULTIPLE = 16\n",
    "\n",
    "Crypto.Random.get_random_bytes(SALT_SIZE)"
   ]
  },
  {
   "cell_type": "code",
   "execution_count": 26,
   "metadata": {
    "collapsed": true
   },
   "outputs": [],
   "source": [
    "def generate_key(password, salt, iterations):\n",
    "    assert iterations > 0\n",
    "    key = password + salt\n",
    "    for i in range(iterations):\n",
    "        key = hashlib.sha256(key).digest()  \n",
    "    return key\n",
    "\n",
    "def pad_text(text, multiple):\n",
    "    extra_bytes = len(text) % multiple\n",
    "    padding_size = multiple - extra_bytes\n",
    "    padding = chr(padding_size) * padding_size\n",
    "    padded_text = text + padding\n",
    "    return padded_text\n",
    "\n",
    "def unpad_text(padded_text):\n",
    "    padding_size = ord(padded_text[-1])\n",
    "    text = padded_text[:-padding_size]\n",
    "    return text\n",
    "\n",
    "\n",
    "def encrypt(plaintext, password):\n",
    "    salt = Crypto.Random.get_random_bytes(SALT_SIZE)\n",
    "    key = generate_key(password, salt, NUMBER_OF_ITERATIONS)\n",
    "    #cipher = AES.new(key, AES.MODE_ECB)\n",
    "    cipher = DES3.new(key, DES3.MODE_OFB, salt)\n",
    "    padded_plaintext = pad_text(plaintext, AES_MULTIPLE)\n",
    "    ciphertext = cipher.encrypt(padded_plaintext)\n",
    "    ciphertext_with_salt = salt + ciphertext\n",
    "    return ciphertext_with_salt\n",
    "\n",
    "\n",
    "def decrypt(ciphertext, password):\n",
    "    salt = ciphertext[0:SALT_SIZE]\n",
    "    ciphertext_sans_salt = ciphertext[SALT_SIZE:]\n",
    "    key = generate_key(password, salt, NUMBER_OF_ITERATIONS)\n",
    "    cipher = AES.new(key, AES.MODE_ECB)\n",
    "    padded_plaintext = cipher.decrypt(ciphertext_sans_salt)\n",
    "    plaintext = unpad_text(padded_plaintext)\n",
    "    return plaintext"
   ]
  },
  {
   "cell_type": "code",
   "execution_count": 27,
   "metadata": {
    "collapsed": false
   },
   "outputs": [
    {
     "data": {
      "text/plain": [
       "b'Gdu\\x91|\\xac\\xf1\\xac\\xc6\\xdf\\xac\\x95C\\xdc\\x84q\\x7f\\xb8\\x8e\\x91<7\\xfa\\xa3i\\x1d\\xc8\\xc9\\xd5Q\\xd0I'"
      ]
     },
     "execution_count": 27,
     "metadata": {},
     "output_type": "execute_result"
    }
   ],
   "source": [
    "password = 'egg'\n",
    "salt = 'HX'\n",
    "\n",
    "generate_key(password.encode(), salt.encode(), 1)\n"
   ]
  },
  {
   "cell_type": "code",
   "execution_count": 29,
   "metadata": {
    "collapsed": false
   },
   "outputs": [
    {
     "ename": "NameError",
     "evalue": "name 'plaintext' is not defined",
     "output_type": "error",
     "traceback": [
      "\u001b[1;31m---------------------------------------------------------------------------\u001b[0m",
      "\u001b[1;31mNameError\u001b[0m                                 Traceback (most recent call last)",
      "\u001b[1;32m<ipython-input-29-517c190227ea>\u001b[0m in \u001b[0;36m<module>\u001b[1;34m()\u001b[0m\n\u001b[1;32m----> 1\u001b[1;33m \u001b[0mencrypt\u001b[0m\u001b[1;33m(\u001b[0m\u001b[0mplaintext\u001b[0m\u001b[1;33m,\u001b[0m \u001b[0mpassword\u001b[0m\u001b[1;33m)\u001b[0m\u001b[1;33m\u001b[0m\u001b[0m\n\u001b[0m",
      "\u001b[1;31mNameError\u001b[0m: name 'plaintext' is not defined"
     ]
    }
   ],
   "source": [
    "encrypt(plaintext, password)"
   ]
  },
  {
   "cell_type": "code",
   "execution_count": null,
   "metadata": {
    "collapsed": true
   },
   "outputs": [],
   "source": []
  }
 ],
 "metadata": {
  "kernelspec": {
   "display_name": "Python 3",
   "language": "python",
   "name": "python3"
  },
  "language_info": {
   "codemirror_mode": {
    "name": "ipython",
    "version": 3
   },
   "file_extension": ".py",
   "mimetype": "text/x-python",
   "name": "python",
   "nbconvert_exporter": "python",
   "pygments_lexer": "ipython3",
   "version": "3.5.1"
  }
 },
 "nbformat": 4,
 "nbformat_minor": 0
}
