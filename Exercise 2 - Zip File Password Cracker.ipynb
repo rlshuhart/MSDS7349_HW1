{
 "cells": [
  {
   "cell_type": "code",
   "execution_count": 1,
   "metadata": {
    "collapsed": false
   },
   "outputs": [
    {
     "name": "stdout",
     "output_type": "stream",
     "text": [
      "apple is not the password\n",
      "orange is not the password\n",
      "egg is not the password\n",
      "grapes is not the password\n",
      "lemon is not the password\n",
      "done. It took 0.017000913619995117 seconds.\n",
      "strawberry is not the password\n",
      "password is not the password\n",
      "[+] The password is: \"secret\"\n",
      "\n"
     ]
    }
   ],
   "source": [
    "# Ryan Shuhart\n",
    "# MSDS 7349\n",
    "# Section 402\n",
    "# June 3, 2016\n",
    "\n",
    "# Sources:\n",
    "# Violent Python: A Cookbook for Hackers, Forensic Analysts, Penetration Testers and Security Engineers by TJ O'Connor\n",
    "# https://github.com/shadow-box/Violent-Python-Examples/tree/master/Chapter-1\n",
    "# http://stackoverflow.com/questions/7585435/best-way-to-convert-string-to-bytes-in-python-3\n",
    "\n",
    "import zipfile\n",
    "import optparse\n",
    "from threading import Thread\n",
    "import time\n",
    "\n",
    "# Set the file names for zip file to crack and dictionary to use\n",
    "zname = \"evil.zip\"\n",
    "dname = \"HW1-dictionary.txt\"\n",
    "\n",
    "def extractFile(zFile, password):\n",
    "    # Tries opening the zip file with the provided password\n",
    "    try:\n",
    "        zFile.extractall(pwd=str.encode(password)) # String must be converted to bytes\n",
    "        print('[+] The password is: \"' + password + '\"\\n')\n",
    "    # If password fail then print below\n",
    "    except:\n",
    "        print(password + \" is not the password\")\n",
    "        pass\n",
    "\n",
    "\n",
    "def main():\n",
    "    start = time.time()\n",
    "    # create object for zip file\n",
    "    zFile = zipfile.ZipFile(zname)\n",
    "    # load dictionary\n",
    "    passFile = open(dname)\n",
    "    # try each password from dictionary to extract the zip file\n",
    "    for line in passFile.readlines():\n",
    "        password = line.strip('\\n')\n",
    "        t = Thread(target=extractFile, args=(zFile, password))\n",
    "        t.start()\n",
    "    return print('done. It took', time.time()-start, 'seconds.')\n",
    "\n",
    "\n",
    "if __name__ == '__main__':\n",
    "    main()"
   ]
  },
  {
   "cell_type": "code",
   "execution_count": null,
   "metadata": {
    "collapsed": true
   },
   "outputs": [],
   "source": []
  }
 ],
 "metadata": {
  "kernelspec": {
   "display_name": "Python 3",
   "language": "python",
   "name": "python3"
  },
  "language_info": {
   "codemirror_mode": {
    "name": "ipython",
    "version": 3
   },
   "file_extension": ".py",
   "mimetype": "text/x-python",
   "name": "python",
   "nbconvert_exporter": "python",
   "pygments_lexer": "ipython3",
   "version": "3.5.1"
  }
 },
 "nbformat": 4,
 "nbformat_minor": 0
}
