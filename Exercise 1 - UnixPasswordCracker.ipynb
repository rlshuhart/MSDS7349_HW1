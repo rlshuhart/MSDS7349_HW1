{
 "cells": [
  {
   "cell_type": "code",
   "execution_count": 1,
   "metadata": {
    "collapsed": false
   },
   "outputs": [
    {
     "name": "stdout",
     "output_type": "stream",
     "text": [
      "victim: HX9LLTdc/jiDE: 503:100:Iama Victim:/home/victim:/bin/sh\n",
      "\n",
      "['victim', ' HX9LLTdc/jiDE', ' 503', '100', 'Iama Victim', '/home/victim', '/bin/sh\\n']\n",
      "[*] Cracking Password For: victim using cryptpass:HX9LLTdc/jiDE\n",
      "\n",
      "Salt is HX\n",
      "Trying word apple and cryptword is HXJintBqUVCEY\n",
      "Word apple does not match\n",
      "\n",
      "Trying word orange and cryptword is HX6dAZy7TqQE.\n",
      "Word orange does not match\n",
      "\n",
      "Trying word egg and cryptword is HX9LLTdc/jiDE\n",
      "[+] Found Password: egg\n",
      "\n",
      "\n",
      "\n",
      "root: DFNFxgW7C05fo: 504:100: Markus Hess:/root:/bin/bash\n",
      "\n",
      "['root', ' DFNFxgW7C05fo', ' 504', '100', ' Markus Hess', '/root', '/bin/bash\\n']\n",
      "[*] Cracking Password For: root using cryptpass:DFNFxgW7C05fo\n",
      "\n",
      "Salt is DF\n",
      "Trying word apple and cryptword is DFWnBavAebFoM\n",
      "Word apple does not match\n",
      "\n",
      "Trying word orange and cryptword is DFLxqyp4Kja72\n",
      "Word orange does not match\n",
      "\n",
      "Trying word egg and cryptword is DFV1s9aC7EHaw\n",
      "Word egg does not match\n",
      "\n",
      "Trying word lemon and cryptword is DFbvAVNj8uv2A\n",
      "Word lemon does not match\n",
      "\n",
      "Trying word grapes and cryptword is DFslWvHbYHibg\n",
      "Word grapes does not match\n",
      "\n",
      "Trying word secret and cryptword is DF2DT.ZFW5s96\n",
      "Word secret does not match\n",
      "\n",
      "Trying word strawberry and cryptword is DFfSzRsQPaTcc\n",
      "Word strawberry does not match\n",
      "\n",
      "Trying word password and cryptword is DFkS2oDEJxgmY\n",
      "Word password does not match\n",
      "\n",
      "[-] Password Not Found.\n",
      "\n",
      "done. It took 0.03200173377990723 seconds.\n"
     ]
    }
   ],
   "source": [
    "# Ryan Shuhart\n",
    "# MSDS 7349\n",
    "# Section 402\n",
    "# June 3, 2016\n",
    "\n",
    "# Sources:\n",
    "# Violent Python: A Cookbook for Hackers, Forensic Analysts, Penetration Testers and Security Engineers by TJ O'Connor\n",
    "# https://github.com/shadow-box/Violent-Python-Examples/tree/master/Chapter-1\n",
    "# http://stackoverflow.com/questions/26021982/python-crypt-equivalent-for-windows\n",
    "# https://pythonhosted.org/passlib/lib/passlib.hash.des_crypt.html\n",
    "\n",
    "from passlib.hash import des_crypt\n",
    "import time\n",
    "\n",
    "def testPass(cryptPass):\n",
    "    salt = cryptPass[0:2] # Grabs first two character as the salt\n",
    "    print(\"\\nSalt is \" + salt)\n",
    "    dictFile = open('HW1-dictionary.txt', 'r') # Opens dictionary to use for a brute force attack\n",
    "    # Tries each dictionary word with the salt from above\n",
    "    for word in dictFile.readlines():        \n",
    "        word = word.strip('\\n')\n",
    "        cryptWord = des_crypt.encrypt(word, salt=salt)\n",
    "        print(\"Trying word \" + word + \" and cryptword is \" + cryptWord)\n",
    "        if cryptWord == cryptPass:\n",
    "            print('[+] Found Password: ' + word + '\\n')\n",
    "            return\n",
    "        else:\n",
    "            print(\"Word \" + word +\" does not match\\n\")\n",
    "    print('[-] Password Not Found.\\n')\n",
    "    return\n",
    "\n",
    "def main():\n",
    "    start = time.time()\n",
    "    # loads password file with DES encrypted passwords\n",
    "    passFile = open('HW1-passwords.txt')\n",
    "    # parse out each password in line of file and trys to crack it\n",
    "    for line in passFile.readlines():\n",
    "        print(line)\n",
    "        if ':' in line:\n",
    "            print(line.split(':'))\n",
    "            user = line.split(':')[0]\n",
    "            cryptPass = line.split(':')[1].strip(' ')\n",
    "            print('[*] Cracking Password For: ' + user + \" using cryptpass:\" +cryptPass)\n",
    "            testPass(cryptPass)\n",
    "    return print('done. It took', time.time()-start, 'seconds.')\n",
    "\n",
    "if __name__ == '__main__':\n",
    "    main()"
   ]
  },
  {
   "cell_type": "code",
   "execution_count": null,
   "metadata": {
    "collapsed": true
   },
   "outputs": [],
   "source": []
  }
 ],
 "metadata": {
  "kernelspec": {
   "display_name": "Python 3",
   "language": "python",
   "name": "python3"
  },
  "language_info": {
   "codemirror_mode": {
    "name": "ipython",
    "version": 3
   },
   "file_extension": ".py",
   "mimetype": "text/x-python",
   "name": "python",
   "nbconvert_exporter": "python",
   "pygments_lexer": "ipython3",
   "version": "3.5.1"
  }
 },
 "nbformat": 4,
 "nbformat_minor": 0
}
